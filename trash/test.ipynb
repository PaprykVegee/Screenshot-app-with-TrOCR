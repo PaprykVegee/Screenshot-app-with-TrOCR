{
 "cells": [
  {
   "cell_type": "code",
   "execution_count": 7,
   "metadata": {},
   "outputs": [
    {
     "name": "stdout",
     "output_type": "stream",
     "text": [
      "Rozpoznany tekst: Textut test\n"
     ]
    }
   ],
   "source": [
    "model_path = r\"C:\\Users\\patry\\Desktop\\Models\\TROCR_IAM\"\n",
    "\n",
    "from transformers import VisionEncoderDecoderModel, TrOCRProcessor\n",
    "from PIL import Image\n",
    "\n",
    "# Załaduj processor i model TrOCR\n",
    "processor = TrOCRProcessor.from_pretrained(\"microsoft/trocr-base-handwritten\")\n",
    "model = VisionEncoderDecoderModel.from_pretrained(model_path)\n",
    "\n",
    "# Otwórz obraz, który chcesz przetworzyć\n",
    "image_path = r\"C:\\Users\\patry\\Desktop\\Screenshot_2.png\"\n",
    "image = Image.open(image_path).convert(\"RGB\")\n",
    "\n",
    "# Przetwórz obraz i wygeneruj tekst\n",
    "pixel_values = processor(images=image, return_tensors=\"pt\").pixel_values\n",
    "generated_ids = model.generate(pixel_values)\n",
    "generated_text = processor.batch_decode(generated_ids, skip_special_tokens=True)[0]\n",
    "\n",
    "print(\"Rozpoznany tekst:\", generated_text)\n"
   ]
  },
  {
   "cell_type": "code",
   "execution_count": null,
   "metadata": {},
   "outputs": [],
   "source": []
  }
 ],
 "metadata": {
  "kernelspec": {
   "display_name": "Python 3 (ipykernel)",
   "language": "python",
   "name": "python3"
  }
 },
 "nbformat": 4,
 "nbformat_minor": 2
}
